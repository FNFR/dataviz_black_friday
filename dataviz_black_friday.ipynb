{
 "cells": [
  {
   "cell_type": "markdown",
   "metadata": {},
   "source": [
    "### Dataviz: Black Friday Dataset ###"
   ]
  },
  {
   "cell_type": "code",
   "execution_count": 1,
   "metadata": {},
   "outputs": [
    {
     "output_type": "execute_result",
     "data": {
      "text/plain": "   User_ID Product_ID Gender  ... Product_Category_2  Product_Category_3 Purchase\n0  1000001  P00069042      F  ...                NaN                 NaN     8370\n1  1000001  P00248942      F  ...                6.0                14.0    15200\n2  1000001  P00087842      F  ...                NaN                 NaN     1422\n3  1000001  P00085442      F  ...               14.0                 NaN     1057\n4  1000002  P00285442      M  ...                NaN                 NaN     7969\n\n[5 rows x 12 columns]",
      "text/html": "<div>\n<style scoped>\n    .dataframe tbody tr th:only-of-type {\n        vertical-align: middle;\n    }\n\n    .dataframe tbody tr th {\n        vertical-align: top;\n    }\n\n    .dataframe thead th {\n        text-align: right;\n    }\n</style>\n<table border=\"1\" class=\"dataframe\">\n  <thead>\n    <tr style=\"text-align: right;\">\n      <th></th>\n      <th>User_ID</th>\n      <th>Product_ID</th>\n      <th>Gender</th>\n      <th>Age</th>\n      <th>Occupation</th>\n      <th>City_Category</th>\n      <th>Stay_In_Current_City_Years</th>\n      <th>Marital_Status</th>\n      <th>Product_Category_1</th>\n      <th>Product_Category_2</th>\n      <th>Product_Category_3</th>\n      <th>Purchase</th>\n    </tr>\n  </thead>\n  <tbody>\n    <tr>\n      <th>0</th>\n      <td>1000001</td>\n      <td>P00069042</td>\n      <td>F</td>\n      <td>0-17</td>\n      <td>10</td>\n      <td>A</td>\n      <td>2</td>\n      <td>0</td>\n      <td>3</td>\n      <td>NaN</td>\n      <td>NaN</td>\n      <td>8370</td>\n    </tr>\n    <tr>\n      <th>1</th>\n      <td>1000001</td>\n      <td>P00248942</td>\n      <td>F</td>\n      <td>0-17</td>\n      <td>10</td>\n      <td>A</td>\n      <td>2</td>\n      <td>0</td>\n      <td>1</td>\n      <td>6.0</td>\n      <td>14.0</td>\n      <td>15200</td>\n    </tr>\n    <tr>\n      <th>2</th>\n      <td>1000001</td>\n      <td>P00087842</td>\n      <td>F</td>\n      <td>0-17</td>\n      <td>10</td>\n      <td>A</td>\n      <td>2</td>\n      <td>0</td>\n      <td>12</td>\n      <td>NaN</td>\n      <td>NaN</td>\n      <td>1422</td>\n    </tr>\n    <tr>\n      <th>3</th>\n      <td>1000001</td>\n      <td>P00085442</td>\n      <td>F</td>\n      <td>0-17</td>\n      <td>10</td>\n      <td>A</td>\n      <td>2</td>\n      <td>0</td>\n      <td>12</td>\n      <td>14.0</td>\n      <td>NaN</td>\n      <td>1057</td>\n    </tr>\n    <tr>\n      <th>4</th>\n      <td>1000002</td>\n      <td>P00285442</td>\n      <td>M</td>\n      <td>55+</td>\n      <td>16</td>\n      <td>C</td>\n      <td>4+</td>\n      <td>0</td>\n      <td>8</td>\n      <td>NaN</td>\n      <td>NaN</td>\n      <td>7969</td>\n    </tr>\n  </tbody>\n</table>\n</div>"
     },
     "metadata": {},
     "execution_count": 1
    }
   ],
   "source": [
    "# import pandas\n",
    "import pandas as pd\n",
    "\n",
    "# open the dataset\n",
    "df = pd.read_csv('BlackFriday.csv')\n",
    "\n",
    "#preview the data\n",
    "df.head(5)"
   ]
  },
  {
   "cell_type": "markdown",
   "metadata": {},
   "source": [
    "### Classificação das Variáveis ####"
   ]
  },
  {
   "cell_type": "code",
   "execution_count": 2,
   "metadata": {},
   "outputs": [
    {
     "output_type": "display_data",
     "data": {
      "text/plain": "                      Variável Classificação\n0                      User_ID              \n1                   Product_ID              \n2                       Gender              \n3                          Age              \n4                   Occupation              \n5                City_Category              \n6   Stay_In_Current_City_Years              \n7               Marital_Status              \n8           Product_Category_1              \n9           Product_Category_2              \n10          Product_Category_3              \n11                    Purchase              ",
      "text/html": "<div>\n<style scoped>\n    .dataframe tbody tr th:only-of-type {\n        vertical-align: middle;\n    }\n\n    .dataframe tbody tr th {\n        vertical-align: top;\n    }\n\n    .dataframe thead th {\n        text-align: right;\n    }\n</style>\n<table border=\"1\" class=\"dataframe\">\n  <thead>\n    <tr style=\"text-align: right;\">\n      <th></th>\n      <th>Variável</th>\n      <th>Classificação</th>\n    </tr>\n  </thead>\n  <tbody>\n    <tr>\n      <th>0</th>\n      <td>User_ID</td>\n      <td></td>\n    </tr>\n    <tr>\n      <th>1</th>\n      <td>Product_ID</td>\n      <td></td>\n    </tr>\n    <tr>\n      <th>2</th>\n      <td>Gender</td>\n      <td></td>\n    </tr>\n    <tr>\n      <th>3</th>\n      <td>Age</td>\n      <td></td>\n    </tr>\n    <tr>\n      <th>4</th>\n      <td>Occupation</td>\n      <td></td>\n    </tr>\n    <tr>\n      <th>5</th>\n      <td>City_Category</td>\n      <td></td>\n    </tr>\n    <tr>\n      <th>6</th>\n      <td>Stay_In_Current_City_Years</td>\n      <td></td>\n    </tr>\n    <tr>\n      <th>7</th>\n      <td>Marital_Status</td>\n      <td></td>\n    </tr>\n    <tr>\n      <th>8</th>\n      <td>Product_Category_1</td>\n      <td></td>\n    </tr>\n    <tr>\n      <th>9</th>\n      <td>Product_Category_2</td>\n      <td></td>\n    </tr>\n    <tr>\n      <th>10</th>\n      <td>Product_Category_3</td>\n      <td></td>\n    </tr>\n    <tr>\n      <th>11</th>\n      <td>Purchase</td>\n      <td></td>\n    </tr>\n  </tbody>\n</table>\n</div>"
     },
     "metadata": {}
    }
   ],
   "source": [
    "# classification of the variables\n",
    "tipo_variaveis = [  ['User_ID', ''],\n",
    "                    ['Product_ID', ''],\n",
    "                    ['Gender', ''],\n",
    "                    ['Age', ''],\n",
    "                    ['Occupation', ''],\n",
    "                    ['City_Category', ''],\n",
    "                    ['Stay_In_Current_City_Years', ''],\n",
    "                    ['Marital_Status', ''],\n",
    "                    ['Product_Category_1', ''],\n",
    "                    ['Product_Category_2', ''],\n",
    "                    ['Product_Category_3', ''],\n",
    "                    ['Purchase', '']]\n",
    "\n",
    "tipo_variaveis = pd.DataFrame(tipo_variaveis, columns=['Variável', 'Classificação'])\n",
    "\n",
    "display(tipo_variaveis)"
   ]
  },
  {
   "cell_type": "markdown",
   "metadata": {},
   "source": [
    "### "
   ]
  },
  {
   "cell_type": "markdown",
   "metadata": {},
   "source": [
    "### Análise Exploratória: Entendento o dataset"
   ]
  },
  {
   "cell_type": "code",
   "execution_count": null,
   "metadata": {},
   "outputs": [],
   "source": [
    "# relationship between variables\n"
   ]
  }
 ],
 "metadata": {
  "language_info": {
   "codemirror_mode": {
    "name": "ipython",
    "version": 3
   },
   "file_extension": ".py",
   "mimetype": "text/x-python",
   "name": "python",
   "nbconvert_exporter": "python",
   "pygments_lexer": "ipython3",
   "version": "3.6.8-final"
  },
  "orig_nbformat": 2,
  "kernelspec": {
   "name": "python36864bitjupytertoolvenvcondaabf9a2a8aa124493b672f53bccf61394",
   "display_name": "Python 3.6.8 64-bit ('JupyterTool_vEnv': conda)"
  }
 },
 "nbformat": 4,
 "nbformat_minor": 2
}