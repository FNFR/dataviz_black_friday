{
 "cells": [
  {
   "cell_type": "code",
   "execution_count": 140,
   "metadata": {},
   "outputs": [],
   "source": [
    "class Grafico():\n",
    "    \n",
    "    def __init__(self,vertices):\n",
    "        \n",
    "        i = 0\n",
    "        grafo = []\n",
    "        \n",
    "        for y in vertices:\n",
    "            if(i == 0):\n",
    "                pass\n",
    "            elif(i==1):\n",
    "                self.V = y[0]\n",
    "            elif(i > 1) and (i < len(vertices)-1):\n",
    "                grafo.append([y[0],y[1],6])\n",
    "            else:\n",
    "                self.S = y[0]\n",
    "                \n",
    "            i+=1\n",
    "            \n",
    "        for e in self.verificaConectados(grafo):\n",
    "            grafo.append([-1,e,-1])\n",
    "        \n",
    "        self.G = grafo\n",
    "        \n",
    "        \n",
    "    def verificaConectados(self, grafo):\n",
    "        \n",
    "        emptyVertices = []\n",
    "        vertices = []\n",
    "        \n",
    "        for x in grafo:\n",
    "            if(x[0] not in vertices):\n",
    "                vertices.append(x[0])\n",
    "            \n",
    "            if(x[1] not in vertices):\n",
    "                vertices.append(x[1])\n",
    "                \n",
    "        if(self.V != len(vertices)):\n",
    "            for x in range(len(vertices),self.V):\n",
    "                emptyVertices.append(x+1)\n",
    "        \n",
    "        return emptyVertices\n",
    "        \n",
    "    def exibeGrafico(self):\n",
    "        print(self.G)\n",
    "        \n",
    "    def exibeDist(self, start):\n",
    "        \n",
    "        dist = []\n",
    "        \n",
    "        for x in self.G:\n",
    "            print(str(x[1])+' '+str(self.calcDist(x[1],start)))\n",
    "            dist.append(self.calcDist(x[1],start))\n",
    "            \n",
    "        print(dist)\n",
    "        \n",
    "    def calcDist(self, currNode, start,totDist = 0):\n",
    "        \n",
    "        for x in self.G:\n",
    "            if(x[1]==currNode):\n",
    "                totDist += x[2]\n",
    "                if(x[0] == start):\n",
    "                    return totDist\n",
    "                else:\n",
    "                    return self.calcDist(x[0],start,totDist)\n",
    "                    \n",
    "        "
   ]
  },
  {
   "cell_type": "code",
   "execution_count": 143,
   "metadata": {},
   "outputs": [
    {
     "name": "stdout",
     "output_type": "stream",
     "text": [
      "2 6\n",
      "3 6\n",
      "4 12\n",
      "5 None\n",
      "[6, 6, 12, None]\n",
      "[[1, 2, 6], [1, 3, 6], [2, 4, 6], [-1, 5, -1]]\n"
     ]
    }
   ],
   "source": [
    "vert = [[1],\n",
    "        [5,3],\n",
    "        [1,2],\n",
    "        [1,3],\n",
    "        [2,4],\n",
    "        [1]]\n",
    "\n",
    "graph = Grafico(vert)\n",
    "\n",
    "graph.exibeDist(1)\n",
    "graph.exibeGrafico()"
   ]
  },
  {
   "cell_type": "code",
   "execution_count": 20,
   "metadata": {},
   "outputs": [
    {
     "name": "stdout",
     "output_type": "stream",
     "text": [
      "5\n",
      "5\n",
      "5\n",
      "5\n",
      "5\n"
     ]
    }
   ],
   "source": [
    "vert = [[1],\n",
    "        [4,2],\n",
    "        [1,2],\n",
    "        [1,5],\n",
    "        [1]]\n",
    "\n",
    "\n",
    "for y in vert:\n",
    "    print(len(vert))"
   ]
  },
  {
   "cell_type": "code",
   "execution_count": 61,
   "metadata": {},
   "outputs": [],
   "source": [
    "import math\n",
    "\n",
    "class Graph():\n",
    "    def __init__(self, vertices): \n",
    "        self.V = vertices \n",
    "        self.graph = [[0 for column in range(vertices)]  \n",
    "                    for row in range(vertices)]\n",
    "        \n",
    "    def printSolution(self, dist): \n",
    "        print (\"Vertex \\tDistance from Source\")\n",
    "        for node in range(self.V): \n",
    "            print (str(node)+\", \\t,\"+str(dist[node]))\n",
    "            \n",
    "     # A utility function to find the vertex with  \n",
    "    # minimum distance value, from the set of vertices  \n",
    "    # not yet included in shortest path tree \n",
    "    def minDistance(self, dist, sptSet): \n",
    "  \n",
    "        # Initilaize minimum distance for next node \n",
    "        min = math.inf\n",
    "  \n",
    "        # Search not nearest vertex not in the  \n",
    "        # shortest path tree \n",
    "        for v in range(self.V): \n",
    "            if dist[v] < min and sptSet[v] == False: \n",
    "                min = dist[v] \n",
    "                min_index = v \n",
    "  \n",
    "        return min_index \n",
    "  \n",
    "    # Funtion that implements Dijkstra's single source  \n",
    "    # shortest path algorithm for a graph represented  \n",
    "    # using adjacency matrix representation \n",
    "    def dijkstra(self, src): \n",
    "  \n",
    "        dist = [math.inf] * self.V \n",
    "        dist[src] = 0\n",
    "        sptSet = [False] * self.V \n",
    "  \n",
    "        for cout in range(self.V): \n",
    "  \n",
    "            # Pick the minimum distance vertex from  \n",
    "            # the set of vertices not yet processed.  \n",
    "            # u is always equal to src in first iteration \n",
    "            u = self.minDistance(dist, sptSet) \n",
    "  \n",
    "            # Put the minimum distance vertex in the  \n",
    "            # shotest path tree \n",
    "            sptSet[u] = True\n",
    "  \n",
    "            # Update dist value of the adjacent vertices  \n",
    "            # of the picked vertex only if the current  \n",
    "            # distance is greater than new distance and \n",
    "            # the vertex in not in the shotest path tree \n",
    "            for v in range(self.V): \n",
    "                if (self.graph[u][v] > 0) and (sptSet[v] == False) and (dist[v] > (dist[u] + self.graph[u][v])): \n",
    "                        dist[v] = dist[u] + self.graph[u][v] \n",
    "  \n",
    "        self.printSolution(dist) \n",
    "  \n",
    "    "
   ]
  },
  {
   "cell_type": "code",
   "execution_count": 64,
   "metadata": {},
   "outputs": [
    {
     "name": "stdout",
     "output_type": "stream",
     "text": [
      "Vertex \tDistance from Source\n",
      "0, \t,14\n",
      "1, \t,10\n",
      "2, \t,2\n",
      "3, \t,9\n",
      "4, \t,16\n",
      "5, \t,6\n",
      "6, \t,6\n",
      "7, \t,7\n",
      "8, \t,0\n"
     ]
    }
   ],
   "source": [
    "# Driver program \n",
    "g = Graph(9) \n",
    "g.graph = [[0, 4, 0, 0, 0, 0, 0, 8, 0], \n",
    "           [4, 0, 8, 0, 0, 0, 0, 11, 0], \n",
    "           [0, 8, 0, 7, 0, 4, 0, 0, 2], \n",
    "           [0, 0, 7, 0, 9, 14, 0, 0, 0], \n",
    "           [0, 0, 0, 9, 0, 10, 0, 0, 0], \n",
    "           [0, 0, 4, 14, 10, 0, 2, 0, 0], \n",
    "           [0, 0, 0, 0, 0, 2, 0, 1, 6], \n",
    "           [8, 11, 0, 0, 0, 0, 1, 0, 7], \n",
    "           [0, 0, 2, 0, 0, 0, 6, 7, 0] \n",
    "          ]; \n",
    "  \n",
    "g.dijkstra(8); "
   ]
  },
  {
   "cell_type": "code",
   "execution_count": 51,
   "metadata": {},
   "outputs": [],
   "source": [
    "def isBalanced(string):\n",
    "    \n",
    "    i = 0\n",
    "    l = 0\n",
    "    lines = string.splitlines()\n",
    "    brac = []\n",
    "    trad = {\"}\":\"{\",\"]\":\"[\",\")\":\"(\"}\n",
    "    balanced = True\n",
    "    resp = []\n",
    "    \n",
    "    for x in lines:\n",
    "        \n",
    "        balanced = True\n",
    "        \n",
    "        if (i == 0):\n",
    "            pass\n",
    "        else:\n",
    "            \n",
    "            l = 0\n",
    "            for y in x:\n",
    "                \n",
    "                if(y in (\"{\",\"[\",\"(\")):\n",
    "                    brac.append(y)\n",
    "                elif(l == 0):\n",
    "                    balanced = False\n",
    "                    break\n",
    "                else:\n",
    "                    if(trad[y] == brac[len(brac)-1]):\n",
    "                        brac.pop(len(brac)-1)\n",
    "                    else:\n",
    "                        balanced = False\n",
    "                        break\n",
    "                l +=1\n",
    "                \n",
    "            if(balanced):\n",
    "                resp.append(\"YES\")\n",
    "            else:\n",
    "                resp.append(\"NO\")\n",
    "        i += 1\n",
    "        \n",
    "    return resp"
   ]
  },
  {
   "cell_type": "code",
   "execution_count": 55,
   "metadata": {},
   "outputs": [
    {
     "name": "stdout",
     "output_type": "stream",
     "text": [
      "['4', '{[()]}', '{[(])}', '{{[[(())]]}}', '{(){[[][(()({)})]]}[]}']\n"
     ]
    },
    {
     "data": {
      "text/plain": [
       "['YES', 'NO', 'YES', 'NO']"
      ]
     },
     "execution_count": 55,
     "metadata": {},
     "output_type": "execute_result"
    }
   ],
   "source": [
    "string = \"4\\n{[()]}\\n{[(])}\\n{{[[(())]]}}\\n{(){[[][(()({)})]]}[]}\"\n",
    "\n",
    "isBalanced(string)"
   ]
  },
  {
   "cell_type": "code",
   "execution_count": 55,
   "metadata": {},
   "outputs": [],
   "source": [
    "class Contato():\n",
    "    \n",
    "    def __init__(self):\n",
    "        self.names = []\n",
    "    \n",
    "    def addName(self,name):\n",
    "        \n",
    "        self.names.append(name)\n",
    "        self.names.sort()\n",
    "        \n",
    "    def findPartial(self,search):\n",
    "        \n",
    "        count = 0\n",
    "        \n",
    "        for x in self.names:\n",
    "            if (x.startswith(search)):\n",
    "                count += 1\n",
    "                \n",
    "        return count\n",
    "    \n",
    "    def process(self,commands):\n",
    "        \n",
    "        i = 0\n",
    "        \n",
    "        for x in commands.splitlines():\n",
    "            if(i==0):\n",
    "                pass\n",
    "            else:\n",
    "                c = x.split(' ')\n",
    "                if(c[0] == 'add'):\n",
    "                    self.addName(c[1])\n",
    "                else:\n",
    "                    print(self.findPartial(c[1]))\n",
    "            i+=1"
   ]
  },
  {
   "cell_type": "code",
   "execution_count": 56,
   "metadata": {},
   "outputs": [
    {
     "name": "stdout",
     "output_type": "stream",
     "text": [
      "2\n",
      "1\n",
      "1\n"
     ]
    }
   ],
   "source": [
    "c = Contato()\n",
    "\n",
    "s = \"10\\nadd abner\\nadd augusto\\nadd bruno\\nadd bernardo\\nadd osvaldo\\nadd roniscleidson\\nadd kratos\\nfind a\\nfind bru\\nfind ron\"\n",
    "\n",
    "c.process(s)"
   ]
  },
  {
   "cell_type": "code",
   "execution_count": 71,
   "metadata": {},
   "outputs": [],
   "source": [
    "class median():\n",
    "    \n",
    "    def __init__(self):\n",
    "        self.numbers = []\n",
    "    \n",
    "    def appendNumber(self,number):\n",
    "        \n",
    "        self.numbers.append(number)\n",
    "        self.numbers.sort()\n",
    "        \n",
    "        return float(self.getMedian())\n",
    "        \n",
    "    def getMedian(self):\n",
    "        \n",
    "        size = len(self.numbers)\n",
    "        mid = size//2\n",
    "        \n",
    "        if((size%2) == 0):\n",
    "            return (self.numbers[mid-1]+self.numbers[mid])/2\n",
    "        else:\n",
    "            return self.numbers[mid]\n",
    "        \n",
    "    def process(self,cmd):\n",
    "        \n",
    "        i = 0\n",
    "        \n",
    "        for x in cmd.splitlines():\n",
    "            \n",
    "            if(i == 0):\n",
    "                pass\n",
    "            else:\n",
    "                print(self.appendNumber(int(x)))\n",
    "            \n",
    "            i += 1"
   ]
  },
  {
   "cell_type": "code",
   "execution_count": 72,
   "metadata": {},
   "outputs": [
    {
     "name": "stdout",
     "output_type": "stream",
     "text": [
      "12.0\n",
      "8.0\n",
      "5.0\n",
      "4.5\n",
      "5.0\n",
      "6.0\n"
     ]
    }
   ],
   "source": [
    "m = median()\n",
    "\n",
    "c = '6\\n12\\n4\\n5\\n3\\n8\\n7'\n",
    "\n",
    "m.process(c)"
   ]
  },
  {
   "cell_type": "code",
   "execution_count": 85,
   "metadata": {},
   "outputs": [],
   "source": [
    "class node():\n",
    "    \n",
    "    def __init__(self, val):\n",
    "        self.right = None\n",
    "        self.left = None\n",
    "        self.value = val\n",
    "    \n",
    "    def getHeight(self,root):\n",
    "        return self.getLongestPath(root)-1\n",
    "        \n",
    "    def getLongestPath(self,root):\n",
    "        if root is None:\n",
    "            return 0\n",
    "        else:\n",
    "            leftLevel = self.getLongestPath(root.left)+1\n",
    "            rightLevel = self.getLongestPath(root.right)+1\n",
    "            \n",
    "            return max(leftLevel,rightLevel)\n",
    "        \n",
    "    def nodeInsert(self,root,node):\n",
    "        \n",
    "        if root is None:\n",
    "            root = node\n",
    "        else:\n",
    "            if root.value < node.value:\n",
    "                if root.right is None:\n",
    "                    root.right = node\n",
    "                else:\n",
    "                    self.nodeInsert(root.right,node)\n",
    "            else:\n",
    "                if root.left is None:\n",
    "                    root.left = node\n",
    "                else:\n",
    "                    self.nodeInsert(root.left,node)\n",
    "                    "
   ]
  },
  {
   "cell_type": "code",
   "execution_count": 84,
   "metadata": {},
   "outputs": [
    {
     "name": "stdout",
     "output_type": "stream",
     "text": [
      "5\n"
     ]
    }
   ],
   "source": [
    "string = \"50\\n40\\n55\\n35\\n45\\n53\\n47\\n60\\n15\\n37\\n57\\n65\\n7\\n66\\n70\"\n",
    "\n",
    "count = 0\n",
    "\n",
    "for x in string.splitlines():\n",
    "    if count == 0:\n",
    "        tree = node(x)\n",
    "    else:\n",
    "        tree.nodeInsert(tree,node(x))\n",
    "    count += 1\n",
    "    \n",
    "print(tree.getHeight(tree))\n"
   ]
  },
  {
   "cell_type": "code",
   "execution_count": null,
   "metadata": {},
   "outputs": [],
   "source": []
  }
 ],
 "metadata": {
  "kernelspec": {
   "display_name": "Python 3",
   "language": "python",
   "name": "python3"
  },
  "language_info": {
   "codemirror_mode": {
    "name": "ipython",
    "version": 3
   },
   "file_extension": ".py",
   "mimetype": "text/x-python",
   "name": "python",
   "nbconvert_exporter": "python",
   "pygments_lexer": "ipython3",
   "version": "3.7.6"
  }
 },
 "nbformat": 4,
 "nbformat_minor": 2
}
